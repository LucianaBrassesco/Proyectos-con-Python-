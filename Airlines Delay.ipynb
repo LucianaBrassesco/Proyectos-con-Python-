{
 "cells": [
  {
   "cell_type": "markdown",
   "id": "1d604b7e",
   "metadata": {},
   "source": [
    "### Dataset: Airlines Delay. "
   ]
  },
  {
   "cell_type": "markdown",
   "id": "d89d3cee",
   "metadata": {},
   "source": [
    "#### Objetivos: \n",
    "<p> \n",
    "    <li> Realizar un análisis EDA sobre los datos. </li>\n",
    "    <li> Predecir si los vuelos van a salir a hora, o bien, si van a demorarse.</li> \n",
    "</p>"
   ]
  },
  {
   "cell_type": "markdown",
   "id": "e95b2f49",
   "metadata": {},
   "source": [
    "#### Link del Dataset: "
   ]
  },
  {
   "cell_type": "markdown",
   "id": "c95eb9eb",
   "metadata": {},
   "source": [
    "https://www.kaggle.com/datasets/ulrikthygepedersen/airlines-delay "
   ]
  },
  {
   "cell_type": "code",
   "execution_count": 1,
   "id": "eaeda7cd",
   "metadata": {},
   "outputs": [],
   "source": [
    "# Importamos algunas librerías que vamos a utilizar: \n",
    "import numpy as np\n",
    "import pandas as pd\n",
    "from matplotlib import pyplot as plt\n",
    "import seaborn as sns\n",
    "import os\n",
    "import plotly.express as px\n",
    "\n",
    "import warnings\n",
    "warnings.filterwarnings(\"ignore\")"
   ]
  },
  {
   "cell_type": "markdown",
   "id": "d66ebdf1",
   "metadata": {},
   "source": [
    "### Data Acquisition: "
   ]
  },
  {
   "cell_type": "code",
   "execution_count": 2,
   "id": "6defd39c",
   "metadata": {},
   "outputs": [
    {
     "data": {
      "text/html": [
       "<div>\n",
       "<style scoped>\n",
       "    .dataframe tbody tr th:only-of-type {\n",
       "        vertical-align: middle;\n",
       "    }\n",
       "\n",
       "    .dataframe tbody tr th {\n",
       "        vertical-align: top;\n",
       "    }\n",
       "\n",
       "    .dataframe thead th {\n",
       "        text-align: right;\n",
       "    }\n",
       "</style>\n",
       "<table border=\"1\" class=\"dataframe\">\n",
       "  <thead>\n",
       "    <tr style=\"text-align: right;\">\n",
       "      <th></th>\n",
       "      <th>Flight</th>\n",
       "      <th>Time</th>\n",
       "      <th>Length</th>\n",
       "      <th>Airline</th>\n",
       "      <th>AirportFrom</th>\n",
       "      <th>AirportTo</th>\n",
       "      <th>DayOfWeek</th>\n",
       "      <th>Class</th>\n",
       "    </tr>\n",
       "  </thead>\n",
       "  <tbody>\n",
       "    <tr>\n",
       "      <th>0</th>\n",
       "      <td>2313.0</td>\n",
       "      <td>1296.0</td>\n",
       "      <td>141.0</td>\n",
       "      <td>DL</td>\n",
       "      <td>ATL</td>\n",
       "      <td>HOU</td>\n",
       "      <td>1</td>\n",
       "      <td>0</td>\n",
       "    </tr>\n",
       "    <tr>\n",
       "      <th>1</th>\n",
       "      <td>6948.0</td>\n",
       "      <td>360.0</td>\n",
       "      <td>146.0</td>\n",
       "      <td>OO</td>\n",
       "      <td>COS</td>\n",
       "      <td>ORD</td>\n",
       "      <td>4</td>\n",
       "      <td>0</td>\n",
       "    </tr>\n",
       "    <tr>\n",
       "      <th>2</th>\n",
       "      <td>1247.0</td>\n",
       "      <td>1170.0</td>\n",
       "      <td>143.0</td>\n",
       "      <td>B6</td>\n",
       "      <td>BOS</td>\n",
       "      <td>CLT</td>\n",
       "      <td>3</td>\n",
       "      <td>0</td>\n",
       "    </tr>\n",
       "    <tr>\n",
       "      <th>3</th>\n",
       "      <td>31.0</td>\n",
       "      <td>1410.0</td>\n",
       "      <td>344.0</td>\n",
       "      <td>US</td>\n",
       "      <td>OGG</td>\n",
       "      <td>PHX</td>\n",
       "      <td>6</td>\n",
       "      <td>0</td>\n",
       "    </tr>\n",
       "    <tr>\n",
       "      <th>4</th>\n",
       "      <td>563.0</td>\n",
       "      <td>692.0</td>\n",
       "      <td>98.0</td>\n",
       "      <td>FL</td>\n",
       "      <td>BMI</td>\n",
       "      <td>ATL</td>\n",
       "      <td>4</td>\n",
       "      <td>0</td>\n",
       "    </tr>\n",
       "  </tbody>\n",
       "</table>\n",
       "</div>"
      ],
      "text/plain": [
       "   Flight    Time  Length Airline AirportFrom AirportTo  DayOfWeek  Class\n",
       "0  2313.0  1296.0   141.0      DL         ATL       HOU          1      0\n",
       "1  6948.0   360.0   146.0      OO         COS       ORD          4      0\n",
       "2  1247.0  1170.0   143.0      B6         BOS       CLT          3      0\n",
       "3    31.0  1410.0   344.0      US         OGG       PHX          6      0\n",
       "4   563.0   692.0    98.0      FL         BMI       ATL          4      0"
      ]
     },
     "execution_count": 2,
     "metadata": {},
     "output_type": "execute_result"
    }
   ],
   "source": [
    "# Importamos los datos: \n",
    "df = pd.read_csv(r'\\Users\\Usuario\\Desktop\\Luciana\\Datos\\Proyectos\\Airline Delays\\airlines_delay.csv') \n",
    "df.head()"
   ]
  },
  {
   "cell_type": "code",
   "execution_count": 3,
   "id": "f62215c9",
   "metadata": {},
   "outputs": [
    {
     "data": {
      "text/plain": [
       "Index(['Flight', 'Time', 'Length', 'Airline', 'AirportFrom', 'AirportTo',\n",
       "       'DayOfWeek', 'Class'],\n",
       "      dtype='object')"
      ]
     },
     "execution_count": 3,
     "metadata": {},
     "output_type": "execute_result"
    }
   ],
   "source": [
    "# Vemos un poco las columnas: \n",
    "df.columns"
   ]
  },
  {
   "cell_type": "markdown",
   "id": "45ee9878",
   "metadata": {},
   "source": [
    "##### Columnas: \n",
    "<p> \n",
    "    <li> Flight: Número de vuelo. </li>\n",
    "    <li> Time: Hora de salida (en minutos). </li>\n",
    "    <li> Length: Duración del vuelo (en minutos). </li>\n",
    "    <li> Airline: ID de la aerolina. </li>\n",
    "    <li> AirportFrom: Aeropuerto de salida. </li>\n",
    "    <li> AirportTo: Aeropuerto de llegada. </li>\n",
    "    <li> DarOfWeek: Día de la semana del vuelo. </li>\n",
    "    <li> Class: Si el vuelo está retrasado o no (0 on time, 1 delayed). </li>\n",
    "</p>"
   ]
  },
  {
   "cell_type": "code",
   "execution_count": 4,
   "id": "f04c46fa",
   "metadata": {},
   "outputs": [
    {
     "data": {
      "text/plain": [
       "(539382, 8)"
      ]
     },
     "execution_count": 4,
     "metadata": {},
     "output_type": "execute_result"
    }
   ],
   "source": [
    "# Estructura del dataframe: \n",
    "df.shape"
   ]
  },
  {
   "cell_type": "markdown",
   "id": "b5a8b201",
   "metadata": {},
   "source": [
    "<p> Hay 539.382 datos sobre los cuales vamos a hacer el análisis y la predicción. </p>"
   ]
  },
  {
   "cell_type": "code",
   "execution_count": 5,
   "id": "15b771b3",
   "metadata": {},
   "outputs": [
    {
     "name": "stdout",
     "output_type": "stream",
     "text": [
      "<class 'pandas.core.frame.DataFrame'>\n",
      "RangeIndex: 539382 entries, 0 to 539381\n",
      "Data columns (total 8 columns):\n",
      " #   Column       Non-Null Count   Dtype  \n",
      "---  ------       --------------   -----  \n",
      " 0   Flight       539382 non-null  float64\n",
      " 1   Time         539382 non-null  float64\n",
      " 2   Length       539382 non-null  float64\n",
      " 3   Airline      539382 non-null  object \n",
      " 4   AirportFrom  539382 non-null  object \n",
      " 5   AirportTo    539382 non-null  object \n",
      " 6   DayOfWeek    539382 non-null  int64  \n",
      " 7   Class        539382 non-null  int64  \n",
      "dtypes: float64(3), int64(2), object(3)\n",
      "memory usage: 32.9+ MB\n"
     ]
    }
   ],
   "source": [
    "# Veamos un poco más en detalle cada columna: \n",
    "df.info()"
   ]
  },
  {
   "cell_type": "markdown",
   "id": "88ba5e5a",
   "metadata": {},
   "source": [
    "<p> Podemos observar que no hay datos nulos en ninguna columna. Por otro lado, a los datos los podemos agrupar de la siguiente forma: \n",
    "    <li> Numéricos: 'Time', 'Length'. </li>\n",
    "    <li> Categóricos: 'Airline', 'AirportFrom', 'AirportTo', 'DayOfWeek', 'Class'. </li>\n",
    "</p>"
   ]
  },
  {
   "cell_type": "markdown",
   "id": "e20dd3d1",
   "metadata": {},
   "source": [
    "### Data Wrangling: "
   ]
  },
  {
   "cell_type": "code",
   "execution_count": 6,
   "id": "bb28f1ba",
   "metadata": {},
   "outputs": [
    {
     "data": {
      "text/plain": [
       "dtype('int32')"
      ]
     },
     "execution_count": 6,
     "metadata": {},
     "output_type": "execute_result"
    }
   ],
   "source": [
    "# Vamos a transformar el tipo de dato de la columna 'Flight' a Int, y la columna 'Time' a horas y minutos: \n",
    "df['Flight'] = df['Flight'].astype(int)\n",
    "df['Flight'].dtype"
   ]
  },
  {
   "cell_type": "code",
   "execution_count": 7,
   "id": "371d31d7",
   "metadata": {},
   "outputs": [],
   "source": [
    "def horas_minutos(min): \n",
    "    horas = min//60\n",
    "    minutos = min % 60\n",
    "    return '%02d:%02d' % (horas, minutos)\n",
    "\n",
    "\n",
    "df['Time (Hours)'] = df['Time'].apply(horas_minutos)"
   ]
  },
  {
   "cell_type": "code",
   "execution_count": 8,
   "id": "92b6ec89",
   "metadata": {},
   "outputs": [],
   "source": [
    "# Transformamos el ID del vuelo en nuestro índice: \n",
    "df.set_index('Flight', inplace = True)"
   ]
  },
  {
   "cell_type": "code",
   "execution_count": 9,
   "id": "8d3c609f",
   "metadata": {},
   "outputs": [
    {
     "data": {
      "text/plain": [
       "Flight\n",
       "2313    1296.0\n",
       "6948     360.0\n",
       "1247    1170.0\n",
       "31      1410.0\n",
       "563      692.0\n",
       "         ...  \n",
       "6973     530.0\n",
       "1264     560.0\n",
       "5209     827.0\n",
       "607      715.0\n",
       "6377     770.0\n",
       "Name: Time, Length: 539382, dtype: float64"
      ]
     },
     "execution_count": 9,
     "metadata": {},
     "output_type": "execute_result"
    }
   ],
   "source": [
    "df['Time']"
   ]
  },
  {
   "cell_type": "code",
   "execution_count": 10,
   "id": "350c66a6",
   "metadata": {},
   "outputs": [
    {
     "name": "stdout",
     "output_type": "stream",
     "text": [
      "Hay 18 aerolinas diferentes.\n",
      "Hay 293 aeropuertos de salida.\n",
      "Hay 293 aeropuertos de llegada.\n"
     ]
    }
   ],
   "source": [
    "# Vamos a determinar la cantidad de aerolineas y aeropuertos que tenemos para definir que type mejor se ajusta a dichas columnas: \n",
    "print('Hay', len(pd.unique(df['Airline'])), 'aerolinas diferentes.')\n",
    "print('Hay', len(pd.unique(df['AirportFrom'])), 'aeropuertos de salida.')\n",
    "print('Hay', len(pd.unique(df['AirportTo'])), 'aeropuertos de llegada.')"
   ]
  },
  {
   "cell_type": "code",
   "execution_count": 11,
   "id": "1d705f9a",
   "metadata": {},
   "outputs": [],
   "source": [
    "# Vamos a transformar las columnas de categoría en category en lugar de object: \n",
    "df['Airline'] = df['Airline'].astype('category')\n",
    "df['AirportFrom'] = df['AirportFrom'].astype('category')\n",
    "df['AirportTo'] = df['AirportTo'].astype('category')\n",
    "df['DayOfWeek'] = df['DayOfWeek'].astype('category')"
   ]
  },
  {
   "cell_type": "code",
   "execution_count": 12,
   "id": "1a3eb40f",
   "metadata": {},
   "outputs": [
    {
     "data": {
      "text/plain": [
       "Time             float64\n",
       "Length           float64\n",
       "Airline         category\n",
       "AirportFrom     category\n",
       "AirportTo       category\n",
       "DayOfWeek       category\n",
       "Class              int64\n",
       "Time (Hours)      object\n",
       "dtype: object"
      ]
     },
     "execution_count": 12,
     "metadata": {},
     "output_type": "execute_result"
    }
   ],
   "source": [
    "# Chequeamos: \n",
    "df.dtypes"
   ]
  },
  {
   "cell_type": "markdown",
   "id": "8df9f91b",
   "metadata": {},
   "source": [
    "<p> Vamos a ver rápidamente un poco la información que contiene las columnas categóricas y numéricas: </p>"
   ]
  },
  {
   "cell_type": "code",
   "execution_count": 13,
   "id": "1c3ff2b5",
   "metadata": {},
   "outputs": [
    {
     "data": {
      "text/plain": [
       "WN    94097\n",
       "DL    60940\n",
       "OO    50254\n",
       "AA    45656\n",
       "MQ    36604\n",
       "US    34500\n",
       "XE    31126\n",
       "EV    27983\n",
       "UA    27619\n",
       "CO    21118\n",
       "FL    20827\n",
       "9E    20686\n",
       "B6    18112\n",
       "YV    13725\n",
       "OH    12630\n",
       "AS    11471\n",
       "F9     6456\n",
       "HA     5578\n",
       "Name: Airline, dtype: int64"
      ]
     },
     "execution_count": 13,
     "metadata": {},
     "output_type": "execute_result"
    }
   ],
   "source": [
    "df['Airline'].value_counts()"
   ]
  },
  {
   "cell_type": "code",
   "execution_count": 14,
   "id": "c2a28482",
   "metadata": {},
   "outputs": [
    {
     "data": {
      "text/plain": [
       "ATL    34449\n",
       "ORD    24822\n",
       "DFW    22153\n",
       "DEN    19843\n",
       "LAX    16657\n",
       "       ...  \n",
       "MMH       16\n",
       "SJT       15\n",
       "GUM       10\n",
       "ADK        9\n",
       "ABR        2\n",
       "Name: AirportFrom, Length: 293, dtype: int64"
      ]
     },
     "execution_count": 14,
     "metadata": {},
     "output_type": "execute_result"
    }
   ],
   "source": [
    "df['AirportFrom'].value_counts()"
   ]
  },
  {
   "cell_type": "code",
   "execution_count": 15,
   "id": "4df3f8d9",
   "metadata": {},
   "outputs": [
    {
     "data": {
      "text/plain": [
       "ATL    34440\n",
       "ORD    24871\n",
       "DFW    22153\n",
       "DEN    19848\n",
       "LAX    16656\n",
       "       ...  \n",
       "MMH       16\n",
       "SJT       15\n",
       "GUM       10\n",
       "ADK        9\n",
       "ABR        2\n",
       "Name: AirportTo, Length: 293, dtype: int64"
      ]
     },
     "execution_count": 15,
     "metadata": {},
     "output_type": "execute_result"
    }
   ],
   "source": [
    "df['AirportTo'].value_counts()"
   ]
  },
  {
   "cell_type": "code",
   "execution_count": 16,
   "id": "e3d5495d",
   "metadata": {},
   "outputs": [
    {
     "data": {
      "text/plain": [
       "4    91445\n",
       "3    89746\n",
       "5    85247\n",
       "1    72769\n",
       "2    71340\n",
       "7    69879\n",
       "6    58956\n",
       "Name: DayOfWeek, dtype: int64"
      ]
     },
     "execution_count": 16,
     "metadata": {},
     "output_type": "execute_result"
    }
   ],
   "source": [
    "df['DayOfWeek'].value_counts()"
   ]
  },
  {
   "cell_type": "code",
   "execution_count": 17,
   "id": "948614e1",
   "metadata": {},
   "outputs": [
    {
     "data": {
      "text/plain": [
       "0    299118\n",
       "1    240264\n",
       "Name: Class, dtype: int64"
      ]
     },
     "execution_count": 17,
     "metadata": {},
     "output_type": "execute_result"
    }
   ],
   "source": [
    "df['Class'].value_counts()"
   ]
  },
  {
   "cell_type": "code",
   "execution_count": 18,
   "id": "b2b1ecbc",
   "metadata": {},
   "outputs": [
    {
     "data": {
      "text/plain": [
       "count    539382.000000\n",
       "mean        132.202104\n",
       "std          70.117045\n",
       "min           0.000000\n",
       "25%          81.000000\n",
       "50%         115.000000\n",
       "75%         162.000000\n",
       "max         655.000000\n",
       "Name: Length, dtype: float64"
      ]
     },
     "execution_count": 18,
     "metadata": {},
     "output_type": "execute_result"
    }
   ],
   "source": [
    "df['Length'].describe()"
   ]
  },
  {
   "cell_type": "markdown",
   "id": "07b454c5",
   "metadata": {},
   "source": [
    "### EDA:  "
   ]
  },
  {
   "cell_type": "markdown",
   "id": "73ddfbaa",
   "metadata": {},
   "source": [
    "##### ¿Qué aerolinas tienen mayor frecuencia de vuelos, y cuál de ella tiene mayor cantidad de vuelos retrasados?"
   ]
  },
  {
   "cell_type": "code",
   "execution_count": 19,
   "id": "bfd0c4fd",
   "metadata": {},
   "outputs": [
    {
     "data": {
      "image/png": "[encoded data removed]",
      "text/plain": [
       "<Figure size 1080x576 with 1 Axes>"
      ]
     },
     "metadata": {},
     "output_type": "display_data"
    }
   ],
   "source": [
    "# Aerolinea: \n",
    "sns.set_theme(style=\"whitegrid\")\n",
    "fig, ax = plt.subplots(figsize =(15, 8))\n",
    "colores = sns.color_palette(\"pastel\")\n",
    "ax = sns.countplot(df.Airline, palette = colores, order = df.Airline.value_counts().index)\n",
    "ax.set_title('Cantidad de vuelos por Aerolinea',fontdict = {'fontsize': 14})\n",
    "plt.ylabel('Cant. Vuelos', fontdict = {'fontsize': 12, 'color': 'grey'}, labelpad = 15)\n",
    "plt.xlabel('Aerolinea', fontdict = {'fontsize': 12, 'color': 'grey'}, labelpad = 10)\n",
    "plt.show()"
   ]
  },
  {
   "cell_type": "code",
   "execution_count": 20,
   "id": "7f04d91a",
   "metadata": {
    "scrolled": false
   },
   "outputs": [
    {
     "data": {
      "image/png": "[encoded data removed]",
      "text/plain": [
       "<Figure size 1080x576 with 1 Axes>"
      ]
     },
     "metadata": {},
     "output_type": "display_data"
    }
   ],
   "source": [
    "# Aerolinea: \n",
    "sns.set_theme(style=\"whitegrid\")\n",
    "fig, ax = plt.subplots(figsize =(15, 8))\n",
    "colores = sns.color_palette(\"pastel\")\n",
    "ax = sns.countplot(df.Airline, palette = colores, hue = df.Class, order = df.Airline.value_counts().index)\n",
    "ax.set_title('Cantidad de vuelos por Aerolinea (On time vs. Delayed)',fontdict = {'fontsize': 14})\n",
    "plt.ylabel('Cant. Vuelos', fontdict = {'fontsize': 12, 'color': 'grey'}, labelpad = 15)\n",
    "plt.xlabel('Aerolinea', fontdict = {'fontsize': 12, 'color': 'grey'}, labelpad = 10)\n",
    "plt.show()"
   ]
  },
  {
   "cell_type": "markdown",
   "id": "b2a3e59c",
   "metadata": {},
   "source": [
    "<p> Podemos observar que la aeorlinea que tiene más vuelos acumulados (WN) es también la que tiene mayor cantidad de vuelos retrasados. Asimismo, podemos observar que, en el caso de la aerolinea CO, la misma tiene más vuelos retrasados que a tiempo. \n",
    "<br> \n",
    "Sin embargo, no podemos identificar exactamente qué aerolineas son aquellas que tienen mayor cantidad de vuelos demorados.</p> "
   ]
  },
  {
   "cell_type": "code",
   "execution_count": 21,
   "id": "cd7b6aaf",
   "metadata": {
    "scrolled": true
   },
   "outputs": [
    {
     "data": {
      "text/html": [
       "<div>\n",
       "<style scoped>\n",
       "    .dataframe tbody tr th:only-of-type {\n",
       "        vertical-align: middle;\n",
       "    }\n",
       "\n",
       "    .dataframe tbody tr th {\n",
       "        vertical-align: top;\n",
       "    }\n",
       "\n",
       "    .dataframe thead th {\n",
       "        text-align: right;\n",
       "    }\n",
       "</style>\n",
       "<table border=\"1\" class=\"dataframe\">\n",
       "  <thead>\n",
       "    <tr style=\"text-align: right;\">\n",
       "      <th></th>\n",
       "      <th>Time</th>\n",
       "      <th>Length</th>\n",
       "      <th>Airline</th>\n",
       "      <th>AirportFrom</th>\n",
       "      <th>AirportTo</th>\n",
       "      <th>DayOfWeek</th>\n",
       "      <th>Class</th>\n",
       "      <th>Time (Hours)</th>\n",
       "    </tr>\n",
       "    <tr>\n",
       "      <th>Flight</th>\n",
       "      <th></th>\n",
       "      <th></th>\n",
       "      <th></th>\n",
       "      <th></th>\n",
       "      <th></th>\n",
       "      <th></th>\n",
       "      <th></th>\n",
       "      <th></th>\n",
       "    </tr>\n",
       "  </thead>\n",
       "  <tbody>\n",
       "    <tr>\n",
       "      <th>104</th>\n",
       "      <td>765.0</td>\n",
       "      <td>250.0</td>\n",
       "      <td>WN</td>\n",
       "      <td>SEA</td>\n",
       "      <td>MDW</td>\n",
       "      <td>7</td>\n",
       "      <td>1</td>\n",
       "      <td>12:45</td>\n",
       "    </tr>\n",
       "    <tr>\n",
       "      <th>120</th>\n",
       "      <td>549.0</td>\n",
       "      <td>308.0</td>\n",
       "      <td>UA</td>\n",
       "      <td>SFO</td>\n",
       "      <td>IAD</td>\n",
       "      <td>5</td>\n",
       "      <td>1</td>\n",
       "      <td>09:09</td>\n",
       "    </tr>\n",
       "    <tr>\n",
       "      <th>18</th>\n",
       "      <td>845.0</td>\n",
       "      <td>111.0</td>\n",
       "      <td>DL</td>\n",
       "      <td>DTW</td>\n",
       "      <td>LGA</td>\n",
       "      <td>6</td>\n",
       "      <td>1</td>\n",
       "      <td>14:05</td>\n",
       "    </tr>\n",
       "    <tr>\n",
       "      <th>2339</th>\n",
       "      <td>915.0</td>\n",
       "      <td>83.0</td>\n",
       "      <td>XE</td>\n",
       "      <td>CLE</td>\n",
       "      <td>GRB</td>\n",
       "      <td>5</td>\n",
       "      <td>1</td>\n",
       "      <td>15:15</td>\n",
       "    </tr>\n",
       "    <tr>\n",
       "      <th>521</th>\n",
       "      <td>780.0</td>\n",
       "      <td>60.0</td>\n",
       "      <td>WN</td>\n",
       "      <td>STL</td>\n",
       "      <td>MDW</td>\n",
       "      <td>1</td>\n",
       "      <td>1</td>\n",
       "      <td>13:00</td>\n",
       "    </tr>\n",
       "    <tr>\n",
       "      <th>...</th>\n",
       "      <td>...</td>\n",
       "      <td>...</td>\n",
       "      <td>...</td>\n",
       "      <td>...</td>\n",
       "      <td>...</td>\n",
       "      <td>...</td>\n",
       "      <td>...</td>\n",
       "      <td>...</td>\n",
       "    </tr>\n",
       "    <tr>\n",
       "      <th>6973</th>\n",
       "      <td>530.0</td>\n",
       "      <td>72.0</td>\n",
       "      <td>OO</td>\n",
       "      <td>GEG</td>\n",
       "      <td>SEA</td>\n",
       "      <td>5</td>\n",
       "      <td>1</td>\n",
       "      <td>08:50</td>\n",
       "    </tr>\n",
       "    <tr>\n",
       "      <th>1264</th>\n",
       "      <td>560.0</td>\n",
       "      <td>115.0</td>\n",
       "      <td>WN</td>\n",
       "      <td>LAS</td>\n",
       "      <td>DEN</td>\n",
       "      <td>4</td>\n",
       "      <td>1</td>\n",
       "      <td>09:20</td>\n",
       "    </tr>\n",
       "    <tr>\n",
       "      <th>5209</th>\n",
       "      <td>827.0</td>\n",
       "      <td>74.0</td>\n",
       "      <td>EV</td>\n",
       "      <td>CAE</td>\n",
       "      <td>ATL</td>\n",
       "      <td>2</td>\n",
       "      <td>1</td>\n",
       "      <td>13:47</td>\n",
       "    </tr>\n",
       "    <tr>\n",
       "      <th>607</th>\n",
       "      <td>715.0</td>\n",
       "      <td>65.0</td>\n",
       "      <td>WN</td>\n",
       "      <td>BWI</td>\n",
       "      <td>BUF</td>\n",
       "      <td>4</td>\n",
       "      <td>1</td>\n",
       "      <td>11:55</td>\n",
       "    </tr>\n",
       "    <tr>\n",
       "      <th>6377</th>\n",
       "      <td>770.0</td>\n",
       "      <td>55.0</td>\n",
       "      <td>OO</td>\n",
       "      <td>CPR</td>\n",
       "      <td>DEN</td>\n",
       "      <td>2</td>\n",
       "      <td>1</td>\n",
       "      <td>12:50</td>\n",
       "    </tr>\n",
       "  </tbody>\n",
       "</table>\n",
       "<p>240264 rows × 8 columns</p>\n",
       "</div>"
      ],
      "text/plain": [
       "         Time  Length Airline AirportFrom AirportTo DayOfWeek  Class  \\\n",
       "Flight                                                                 \n",
       "104     765.0   250.0      WN         SEA       MDW         7      1   \n",
       "120     549.0   308.0      UA         SFO       IAD         5      1   \n",
       "18      845.0   111.0      DL         DTW       LGA         6      1   \n",
       "2339    915.0    83.0      XE         CLE       GRB         5      1   \n",
       "521     780.0    60.0      WN         STL       MDW         1      1   \n",
       "...       ...     ...     ...         ...       ...       ...    ...   \n",
       "6973    530.0    72.0      OO         GEG       SEA         5      1   \n",
       "1264    560.0   115.0      WN         LAS       DEN         4      1   \n",
       "5209    827.0    74.0      EV         CAE       ATL         2      1   \n",
       "607     715.0    65.0      WN         BWI       BUF         4      1   \n",
       "6377    770.0    55.0      OO         CPR       DEN         2      1   \n",
       "\n",
       "       Time (Hours)  \n",
       "Flight               \n",
       "104           12:45  \n",
       "120           09:09  \n",
       "18            14:05  \n",
       "2339          15:15  \n",
       "521           13:00  \n",
       "...             ...  \n",
       "6973          08:50  \n",
       "1264          09:20  \n",
       "5209          13:47  \n",
       "607           11:55  \n",
       "6377          12:50  \n",
       "\n",
       "[240264 rows x 8 columns]"
      ]
     },
     "execution_count": 21,
     "metadata": {},
     "output_type": "execute_result"
    }
   ],
   "source": [
    "df_copia = df[df['Class'] == 1].copy()\n",
    "df_copia"
   ]
  },
  {
   "cell_type": "code",
   "execution_count": 22,
   "id": "a3c30ffc",
   "metadata": {
    "scrolled": false
   },
   "outputs": [
    {
     "data": {
      "image/png": "[encoded data removed]",
      "text/plain": [
       "<Figure size 1080x576 with 1 Axes>"
      ]
     },
     "metadata": {},
     "output_type": "display_data"
    }
   ],
   "source": [
    "# Aerolinea con vuelos demorados: \n",
    "sns.set_theme(style=\"whitegrid\")\n",
    "fig, ax = plt.subplots(figsize =(15, 8))\n",
    "colores = sns.color_palette(\"pastel\")\n",
    "ax = sns.countplot(df_copia.Airline, palette = colores, order = df_copia.Airline.value_counts().index)\n",
    "ax.set_title('Cantidad de vuelos demorados por Aerolinea',fontdict = {'fontsize': 14})\n",
    "plt.ylabel('Cant. Vuelos', fontdict = {'fontsize': 12, 'color': 'grey'}, labelpad = 15)\n",
    "plt.xlabel('Aerolinea', fontdict = {'fontsize': 12, 'color': 'grey'}, labelpad = 10)\n",
    "plt.show()"
   ]
  },
  {
   "cell_type": "markdown",
   "id": "c91b44a2",
   "metadata": {},
   "source": [
    "<p> Claramente, podemos observar que la aerolinea con mayor cantidad de vuelos demorados es la WN. Luego, se encuentran la DL, OO, AA, etc. </p>"
   ]
  },
  {
   "cell_type": "markdown",
   "id": "26bfee87",
   "metadata": {},
   "source": [
    "##### ¿En qué día de la semana suelen ocurrir más vuelos?¿Qué días acumulan mayor cantidad de vuelos demorados?"
   ]
  },
  {
   "cell_type": "code",
   "execution_count": 23,
   "id": "334d5811",
   "metadata": {
    "scrolled": true
   },
   "outputs": [
    {
     "data": {
      "text/html": [
       "<div>\n",
       "<style scoped>\n",
       "    .dataframe tbody tr th:only-of-type {\n",
       "        vertical-align: middle;\n",
       "    }\n",
       "\n",
       "    .dataframe tbody tr th {\n",
       "        vertical-align: top;\n",
       "    }\n",
       "\n",
       "    .dataframe thead th {\n",
       "        text-align: right;\n",
       "    }\n",
       "</style>\n",
       "<table border=\"1\" class=\"dataframe\">\n",
       "  <thead>\n",
       "    <tr style=\"text-align: right;\">\n",
       "      <th></th>\n",
       "      <th>Time</th>\n",
       "      <th>Length</th>\n",
       "      <th>Airline</th>\n",
       "      <th>AirportFrom</th>\n",
       "      <th>AirportTo</th>\n",
       "      <th>DayOfWeek</th>\n",
       "      <th>Class</th>\n",
       "      <th>Time (Hours)</th>\n",
       "    </tr>\n",
       "    <tr>\n",
       "      <th>Flight</th>\n",
       "      <th></th>\n",
       "      <th></th>\n",
       "      <th></th>\n",
       "      <th></th>\n",
       "      <th></th>\n",
       "      <th></th>\n",
       "      <th></th>\n",
       "      <th></th>\n",
       "    </tr>\n",
       "  </thead>\n",
       "  <tbody>\n",
       "    <tr>\n",
       "      <th>104</th>\n",
       "      <td>765.0</td>\n",
       "      <td>250.0</td>\n",
       "      <td>WN</td>\n",
       "      <td>SEA</td>\n",
       "      <td>MDW</td>\n",
       "      <td>Domingo</td>\n",
       "      <td>1</td>\n",
       "      <td>12:45</td>\n",
       "    </tr>\n",
       "    <tr>\n",
       "      <th>120</th>\n",
       "      <td>549.0</td>\n",
       "      <td>308.0</td>\n",
       "      <td>UA</td>\n",
       "      <td>SFO</td>\n",
       "      <td>IAD</td>\n",
       "      <td>Viernes</td>\n",
       "      <td>1</td>\n",
       "      <td>09:09</td>\n",
       "    </tr>\n",
       "    <tr>\n",
       "      <th>18</th>\n",
       "      <td>845.0</td>\n",
       "      <td>111.0</td>\n",
       "      <td>DL</td>\n",
       "      <td>DTW</td>\n",
       "      <td>LGA</td>\n",
       "      <td>Sábado</td>\n",
       "      <td>1</td>\n",
       "      <td>14:05</td>\n",
       "    </tr>\n",
       "    <tr>\n",
       "      <th>2339</th>\n",
       "      <td>915.0</td>\n",
       "      <td>83.0</td>\n",
       "      <td>XE</td>\n",
       "      <td>CLE</td>\n",
       "      <td>GRB</td>\n",
       "      <td>Viernes</td>\n",
       "      <td>1</td>\n",
       "      <td>15:15</td>\n",
       "    </tr>\n",
       "    <tr>\n",
       "      <th>521</th>\n",
       "      <td>780.0</td>\n",
       "      <td>60.0</td>\n",
       "      <td>WN</td>\n",
       "      <td>STL</td>\n",
       "      <td>MDW</td>\n",
       "      <td>Lunes</td>\n",
       "      <td>1</td>\n",
       "      <td>13:00</td>\n",
       "    </tr>\n",
       "    <tr>\n",
       "      <th>...</th>\n",
       "      <td>...</td>\n",
       "      <td>...</td>\n",
       "      <td>...</td>\n",
       "      <td>...</td>\n",
       "      <td>...</td>\n",
       "      <td>...</td>\n",
       "      <td>...</td>\n",
       "      <td>...</td>\n",
       "    </tr>\n",
       "    <tr>\n",
       "      <th>6973</th>\n",
       "      <td>530.0</td>\n",
       "      <td>72.0</td>\n",
       "      <td>OO</td>\n",
       "      <td>GEG</td>\n",
       "      <td>SEA</td>\n",
       "      <td>Viernes</td>\n",
       "      <td>1</td>\n",
       "      <td>08:50</td>\n",
       "    </tr>\n",
       "    <tr>\n",
       "      <th>1264</th>\n",
       "      <td>560.0</td>\n",
       "      <td>115.0</td>\n",
       "      <td>WN</td>\n",
       "      <td>LAS</td>\n",
       "      <td>DEN</td>\n",
       "      <td>Jueves</td>\n",
       "      <td>1</td>\n",
       "      <td>09:20</td>\n",
       "    </tr>\n",
       "    <tr>\n",
       "      <th>5209</th>\n",
       "      <td>827.0</td>\n",
       "      <td>74.0</td>\n",
       "      <td>EV</td>\n",
       "      <td>CAE</td>\n",
       "      <td>ATL</td>\n",
       "      <td>Martes</td>\n",
       "      <td>1</td>\n",
       "      <td>13:47</td>\n",
       "    </tr>\n",
       "    <tr>\n",
       "      <th>607</th>\n",
       "      <td>715.0</td>\n",
       "      <td>65.0</td>\n",
       "      <td>WN</td>\n",
       "      <td>BWI</td>\n",
       "      <td>BUF</td>\n",
       "      <td>Jueves</td>\n",
       "      <td>1</td>\n",
       "      <td>11:55</td>\n",
       "    </tr>\n",
       "    <tr>\n",
       "      <th>6377</th>\n",
       "      <td>770.0</td>\n",
       "      <td>55.0</td>\n",
       "      <td>OO</td>\n",
       "      <td>CPR</td>\n",
       "      <td>DEN</td>\n",
       "      <td>Martes</td>\n",
       "      <td>1</td>\n",
       "      <td>12:50</td>\n",
       "    </tr>\n",
       "  </tbody>\n",
       "</table>\n",
       "<p>240264 rows × 8 columns</p>\n",
       "</div>"
      ],
      "text/plain": [
       "         Time  Length Airline AirportFrom AirportTo DayOfWeek  Class  \\\n",
       "Flight                                                                 \n",
       "104     765.0   250.0      WN         SEA       MDW   Domingo      1   \n",
       "120     549.0   308.0      UA         SFO       IAD   Viernes      1   \n",
       "18      845.0   111.0      DL         DTW       LGA    Sábado      1   \n",
       "2339    915.0    83.0      XE         CLE       GRB   Viernes      1   \n",
       "521     780.0    60.0      WN         STL       MDW     Lunes      1   \n",
       "...       ...     ...     ...         ...       ...       ...    ...   \n",
       "6973    530.0    72.0      OO         GEG       SEA   Viernes      1   \n",
       "1264    560.0   115.0      WN         LAS       DEN    Jueves      1   \n",
       "5209    827.0    74.0      EV         CAE       ATL    Martes      1   \n",
       "607     715.0    65.0      WN         BWI       BUF    Jueves      1   \n",
       "6377    770.0    55.0      OO         CPR       DEN    Martes      1   \n",
       "\n",
       "       Time (Hours)  \n",
       "Flight               \n",
       "104           12:45  \n",
       "120           09:09  \n",
       "18            14:05  \n",
       "2339          15:15  \n",
       "521           13:00  \n",
       "...             ...  \n",
       "6973          08:50  \n",
       "1264          09:20  \n",
       "5209          13:47  \n",
       "607           11:55  \n",
       "6377          12:50  \n",
       "\n",
       "[240264 rows x 8 columns]"
      ]
     },
     "execution_count": 23,
     "metadata": {},
     "output_type": "execute_result"
    }
   ],
   "source": [
    "df_copia.DayOfWeek = df_copia.DayOfWeek.replace({1:'Lunes',2:'Martes',3:'Miércoles',4:'Jueves',5:'Viernes',6:'Sábado',7:'Domingo'})\n",
    "df_copia"
   ]
  },
  {
   "cell_type": "code",
   "execution_count": 24,
   "id": "280ef3ef",
   "metadata": {},
   "outputs": [
    {
     "data": {
      "image/png": "[encoded data removed]",
      "text/plain": [
       "<Figure size 432x288 with 1 Axes>"
      ]
     },
     "metadata": {},
     "output_type": "display_data"
    }
   ],
   "source": [
    "sns.set_theme(style=\"whitegrid\")\n",
    "colores = sns.color_palette(\"pastel\")\n",
    "etiquetas = df_copia.groupby('DayOfWeek').count().index\n",
    "datos = df_copia.groupby('DayOfWeek').count()['Class']\n",
    "\n",
    "fig1,ax1 = plt.subplots()\n",
    "pat, txts, autopcts = ax1.pie(x = datos, labels = etiquetas, autopct='%1.1f%%', colors = colores, radius = 1.5)\n",
    "plt.setp(autopcts, **{'color':'black', 'fontsize':10})\n",
    "plt.setp(txts, **{'color':'black','fontsize':10})\n",
    "ax1.set_title(\"Porcentaje de vuelos retrasados según el Día de la Semana\", fontdict = {'fontsize': 12}, pad = 55)\n",
    "plt.show()"
   ]
  },
  {
   "cell_type": "markdown",
   "id": "57279564",
   "metadata": {},
   "source": [
    "<p> Podemos observar que los días miércoles y jueves son los que mayor cantidad de vuelos atrasados acumulan. En tercer lugar, podemos ver que son los viernes. </p>"
   ]
  },
  {
   "cell_type": "code",
   "execution_count": 25,
   "id": "60a69240",
   "metadata": {},
   "outputs": [],
   "source": [
    "df_copia_2 = df.copy()\n",
    "df_copia_2.DayOfWeek = df_copia_2.DayOfWeek.replace({1:'Lunes',2:'Martes',3:'Miércoles',4:'Jueves',5:'Viernes',6:'Sábado',7:'Domingo'})"
   ]
  },
  {
   "cell_type": "code",
   "execution_count": 26,
   "id": "15de71e2",
   "metadata": {},
   "outputs": [
    {
     "data": {
      "text/plain": [
       "Jueves       91445\n",
       "Miércoles    89746\n",
       "Viernes      85247\n",
       "Lunes        72769\n",
       "Martes       71340\n",
       "Domingo      69879\n",
       "Sábado       58956\n",
       "Name: DayOfWeek, dtype: int64"
      ]
     },
     "execution_count": 26,
     "metadata": {},
     "output_type": "execute_result"
    }
   ],
   "source": [
    "df_copia_2.DayOfWeek.value_counts()"
   ]
  },
  {
   "cell_type": "code",
   "execution_count": 27,
   "id": "f4b11857",
   "metadata": {},
   "outputs": [
    {
     "data": {
      "image/png": "[encoded data removed]",
      "text/plain": [
       "<Figure size 1080x576 with 1 Axes>"
      ]
     },
     "metadata": {},
     "output_type": "display_data"
    }
   ],
   "source": [
    "# Días de la semana en donde se producen la mayor cantidad de demoras en los vuelos:  \n",
    "sns.set_theme(style=\"whitegrid\")\n",
    "fig, ax = plt.subplots(figsize =(15, 8))\n",
    "colores = sns.color_palette(\"pastel\")\n",
    "ax = sns.countplot(data = df_copia_2, x = 'DayOfWeek', palette = colores, hue = 'Class', order = df_copia_2.DayOfWeek.value_counts().index)\n",
    "ax.set_title('Cant. de vuelos (a tiempo y retrasados) según el Día de la Semana',fontdict = {'fontsize': 14})\n",
    "plt.ylabel('Cant. Vuelos', fontdict = {'fontsize': 12, 'color': 'grey'}, labelpad = 15)\n",
    "plt.xlabel('Día de la Semana', fontdict = {'fontsize': 12, 'color': 'grey'}, labelpad = 10)\n",
    "plt.show()"
   ]
  },
  {
   "cell_type": "markdown",
   "id": "3eb4943e",
   "metadata": {},
   "source": [
    "<p> Como podemos observar en el gráfico, los días en los que se producen mayor cantidad de demoras en los vuelos son los miércoles, jueves y viernes. Podemos observar, a su vez, que los fines de semana (sábados y domingo) son los días con menor cantidad de vuelos demorados. </p>"
   ]
  },
  {
   "cell_type": "markdown",
   "id": "61df0798",
   "metadata": {},
   "source": [
    "##### ¿En que horarios se suelen registrar la mayor cantidad de vuelos demorados?"
   ]
  },
  {
   "cell_type": "code",
   "execution_count": 28,
   "id": "4cf9b001",
   "metadata": {},
   "outputs": [
    {
     "data": {
      "image/png": "[encoded data removed]",
      "text/plain": [
       "<Figure size 1080x576 with 1 Axes>"
      ]
     },
     "metadata": {},
     "output_type": "display_data"
    }
   ],
   "source": [
    "sns.set_theme(style=\"whitegrid\")\n",
    "fig, ax = plt.subplots(figsize =(15, 8))\n",
    "colores = sns.color_palette(\"pastel\", n_colors = 2)\n",
    "ax = sns.histplot(data = df, x = 'Time', hue = 'Class', palette = colores)\n",
    "ax.set_title('Cant. de vuelos (a tiempo y retrasados) según el horario de salida',fontdict = {'fontsize': 14})\n",
    "plt.ylabel('Cant. Vuelos', fontdict = {'fontsize': 12, 'color': 'grey'}, labelpad = 15)\n",
    "plt.xlabel('Minutos', fontdict = {'fontsize': 12, 'color': 'grey'}, labelpad = 10)\n",
    "plt.show()"
   ]
  },
  {
   "cell_type": "markdown",
   "id": "5185d96c",
   "metadata": {},
   "source": [
    "<p> Del gráfico anterior se puede observar una tendencia de los vuelos demorados a aumentar a partir del medio día. Asimismo, se puede observar que la mayor cantidad de vuelos se produce de mañana, es decir, que no se podría decir que las demoras se producen por un aumento de la actividad. En conclusión, se debería indagar acerca de qué condiciones cambian de la mañana a la tarde, en los aeropuertos, para que incremente la cantidad de vuelos demorados. </p>"
   ]
  },
  {
   "cell_type": "markdown",
   "id": "34f34242",
   "metadata": {},
   "source": [
    "##### ¿En qué aeropuertos suelen producirse, con mayor frecuencia, demoras en los vuelos?"
   ]
  },
  {
   "cell_type": "code",
   "execution_count": 29,
   "id": "9425c8a7",
   "metadata": {},
   "outputs": [
    {
     "data": {
      "text/html": [
       "<div>\n",
       "<style scoped>\n",
       "    .dataframe tbody tr th:only-of-type {\n",
       "        vertical-align: middle;\n",
       "    }\n",
       "\n",
       "    .dataframe tbody tr th {\n",
       "        vertical-align: top;\n",
       "    }\n",
       "\n",
       "    .dataframe thead th {\n",
       "        text-align: right;\n",
       "    }\n",
       "</style>\n",
       "<table border=\"1\" class=\"dataframe\">\n",
       "  <thead>\n",
       "    <tr style=\"text-align: right;\">\n",
       "      <th></th>\n",
       "      <th>Time</th>\n",
       "      <th>Length</th>\n",
       "      <th>Airline</th>\n",
       "      <th>AirportTo</th>\n",
       "      <th>DayOfWeek</th>\n",
       "      <th>Class</th>\n",
       "      <th>Time (Hours)</th>\n",
       "    </tr>\n",
       "    <tr>\n",
       "      <th>AirportFrom</th>\n",
       "      <th></th>\n",
       "      <th></th>\n",
       "      <th></th>\n",
       "      <th></th>\n",
       "      <th></th>\n",
       "      <th></th>\n",
       "      <th></th>\n",
       "    </tr>\n",
       "  </thead>\n",
       "  <tbody>\n",
       "    <tr>\n",
       "      <th>ATL</th>\n",
       "      <td>34449</td>\n",
       "      <td>34449</td>\n",
       "      <td>34449</td>\n",
       "      <td>34449</td>\n",
       "      <td>34449</td>\n",
       "      <td>34449</td>\n",
       "      <td>34449</td>\n",
       "    </tr>\n",
       "    <tr>\n",
       "      <th>ORD</th>\n",
       "      <td>24822</td>\n",
       "      <td>24822</td>\n",
       "      <td>24822</td>\n",
       "      <td>24822</td>\n",
       "      <td>24822</td>\n",
       "      <td>24822</td>\n",
       "      <td>24822</td>\n",
       "    </tr>\n",
       "    <tr>\n",
       "      <th>DFW</th>\n",
       "      <td>22153</td>\n",
       "      <td>22153</td>\n",
       "      <td>22153</td>\n",
       "      <td>22153</td>\n",
       "      <td>22153</td>\n",
       "      <td>22153</td>\n",
       "      <td>22153</td>\n",
       "    </tr>\n",
       "    <tr>\n",
       "      <th>DEN</th>\n",
       "      <td>19843</td>\n",
       "      <td>19843</td>\n",
       "      <td>19843</td>\n",
       "      <td>19843</td>\n",
       "      <td>19843</td>\n",
       "      <td>19843</td>\n",
       "      <td>19843</td>\n",
       "    </tr>\n",
       "    <tr>\n",
       "      <th>LAX</th>\n",
       "      <td>16657</td>\n",
       "      <td>16657</td>\n",
       "      <td>16657</td>\n",
       "      <td>16657</td>\n",
       "      <td>16657</td>\n",
       "      <td>16657</td>\n",
       "      <td>16657</td>\n",
       "    </tr>\n",
       "    <tr>\n",
       "      <th>...</th>\n",
       "      <td>...</td>\n",
       "      <td>...</td>\n",
       "      <td>...</td>\n",
       "      <td>...</td>\n",
       "      <td>...</td>\n",
       "      <td>...</td>\n",
       "      <td>...</td>\n",
       "    </tr>\n",
       "    <tr>\n",
       "      <th>MMH</th>\n",
       "      <td>16</td>\n",
       "      <td>16</td>\n",
       "      <td>16</td>\n",
       "      <td>16</td>\n",
       "      <td>16</td>\n",
       "      <td>16</td>\n",
       "      <td>16</td>\n",
       "    </tr>\n",
       "    <tr>\n",
       "      <th>SJT</th>\n",
       "      <td>15</td>\n",
       "      <td>15</td>\n",
       "      <td>15</td>\n",
       "      <td>15</td>\n",
       "      <td>15</td>\n",
       "      <td>15</td>\n",
       "      <td>15</td>\n",
       "    </tr>\n",
       "    <tr>\n",
       "      <th>GUM</th>\n",
       "      <td>10</td>\n",
       "      <td>10</td>\n",
       "      <td>10</td>\n",
       "      <td>10</td>\n",
       "      <td>10</td>\n",
       "      <td>10</td>\n",
       "      <td>10</td>\n",
       "    </tr>\n",
       "    <tr>\n",
       "      <th>ADK</th>\n",
       "      <td>9</td>\n",
       "      <td>9</td>\n",
       "      <td>9</td>\n",
       "      <td>9</td>\n",
       "      <td>9</td>\n",
       "      <td>9</td>\n",
       "      <td>9</td>\n",
       "    </tr>\n",
       "    <tr>\n",
       "      <th>ABR</th>\n",
       "      <td>2</td>\n",
       "      <td>2</td>\n",
       "      <td>2</td>\n",
       "      <td>2</td>\n",
       "      <td>2</td>\n",
       "      <td>2</td>\n",
       "      <td>2</td>\n",
       "    </tr>\n",
       "  </tbody>\n",
       "</table>\n",
       "<p>293 rows × 7 columns</p>\n",
       "</div>"
      ],
      "text/plain": [
       "              Time  Length  Airline  AirportTo  DayOfWeek  Class  Time (Hours)\n",
       "AirportFrom                                                                   \n",
       "ATL          34449   34449    34449      34449      34449  34449         34449\n",
       "ORD          24822   24822    24822      24822      24822  24822         24822\n",
       "DFW          22153   22153    22153      22153      22153  22153         22153\n",
       "DEN          19843   19843    19843      19843      19843  19843         19843\n",
       "LAX          16657   16657    16657      16657      16657  16657         16657\n",
       "...            ...     ...      ...        ...        ...    ...           ...\n",
       "MMH             16      16       16         16         16     16            16\n",
       "SJT             15      15       15         15         15     15            15\n",
       "GUM             10      10       10         10         10     10            10\n",
       "ADK              9       9        9          9          9      9             9\n",
       "ABR              2       2        2          2          2      2             2\n",
       "\n",
       "[293 rows x 7 columns]"
      ]
     },
     "execution_count": 29,
     "metadata": {},
     "output_type": "execute_result"
    }
   ],
   "source": [
    "df.groupby(['AirportFrom']).count().sort_values('Class', ascending = False)"
   ]
  },
  {
   "cell_type": "code",
   "execution_count": 30,
   "id": "865e7f45",
   "metadata": {},
   "outputs": [
    {
     "data": {
      "text/html": [
       "<div>\n",
       "<style scoped>\n",
       "    .dataframe tbody tr th:only-of-type {\n",
       "        vertical-align: middle;\n",
       "    }\n",
       "\n",
       "    .dataframe tbody tr th {\n",
       "        vertical-align: top;\n",
       "    }\n",
       "\n",
       "    .dataframe thead th {\n",
       "        text-align: right;\n",
       "    }\n",
       "</style>\n",
       "<table border=\"1\" class=\"dataframe\">\n",
       "  <thead>\n",
       "    <tr style=\"text-align: right;\">\n",
       "      <th></th>\n",
       "      <th>Time</th>\n",
       "      <th>Length</th>\n",
       "      <th>Airline</th>\n",
       "      <th>AirportTo</th>\n",
       "      <th>DayOfWeek</th>\n",
       "      <th>Class</th>\n",
       "      <th>Time (Hours)</th>\n",
       "    </tr>\n",
       "    <tr>\n",
       "      <th>AirportFrom</th>\n",
       "      <th></th>\n",
       "      <th></th>\n",
       "      <th></th>\n",
       "      <th></th>\n",
       "      <th></th>\n",
       "      <th></th>\n",
       "      <th></th>\n",
       "    </tr>\n",
       "  </thead>\n",
       "  <tbody>\n",
       "    <tr>\n",
       "      <th>ATL</th>\n",
       "      <td>34449</td>\n",
       "      <td>34449</td>\n",
       "      <td>34449</td>\n",
       "      <td>34449</td>\n",
       "      <td>34449</td>\n",
       "      <td>34449</td>\n",
       "      <td>34449</td>\n",
       "    </tr>\n",
       "    <tr>\n",
       "      <th>ORD</th>\n",
       "      <td>24822</td>\n",
       "      <td>24822</td>\n",
       "      <td>24822</td>\n",
       "      <td>24822</td>\n",
       "      <td>24822</td>\n",
       "      <td>24822</td>\n",
       "      <td>24822</td>\n",
       "    </tr>\n",
       "    <tr>\n",
       "      <th>DFW</th>\n",
       "      <td>22153</td>\n",
       "      <td>22153</td>\n",
       "      <td>22153</td>\n",
       "      <td>22153</td>\n",
       "      <td>22153</td>\n",
       "      <td>22153</td>\n",
       "      <td>22153</td>\n",
       "    </tr>\n",
       "    <tr>\n",
       "      <th>DEN</th>\n",
       "      <td>19843</td>\n",
       "      <td>19843</td>\n",
       "      <td>19843</td>\n",
       "      <td>19843</td>\n",
       "      <td>19843</td>\n",
       "      <td>19843</td>\n",
       "      <td>19843</td>\n",
       "    </tr>\n",
       "    <tr>\n",
       "      <th>LAX</th>\n",
       "      <td>16657</td>\n",
       "      <td>16657</td>\n",
       "      <td>16657</td>\n",
       "      <td>16657</td>\n",
       "      <td>16657</td>\n",
       "      <td>16657</td>\n",
       "      <td>16657</td>\n",
       "    </tr>\n",
       "    <tr>\n",
       "      <th>IAH</th>\n",
       "      <td>15821</td>\n",
       "      <td>15821</td>\n",
       "      <td>15821</td>\n",
       "      <td>15821</td>\n",
       "      <td>15821</td>\n",
       "      <td>15821</td>\n",
       "      <td>15821</td>\n",
       "    </tr>\n",
       "    <tr>\n",
       "      <th>PHX</th>\n",
       "      <td>15557</td>\n",
       "      <td>15557</td>\n",
       "      <td>15557</td>\n",
       "      <td>15557</td>\n",
       "      <td>15557</td>\n",
       "      <td>15557</td>\n",
       "      <td>15557</td>\n",
       "    </tr>\n",
       "    <tr>\n",
       "      <th>DTW</th>\n",
       "      <td>13136</td>\n",
       "      <td>13136</td>\n",
       "      <td>13136</td>\n",
       "      <td>13136</td>\n",
       "      <td>13136</td>\n",
       "      <td>13136</td>\n",
       "      <td>13136</td>\n",
       "    </tr>\n",
       "  </tbody>\n",
       "</table>\n",
       "</div>"
      ],
      "text/plain": [
       "              Time  Length  Airline  AirportTo  DayOfWeek  Class  Time (Hours)\n",
       "AirportFrom                                                                   \n",
       "ATL          34449   34449    34449      34449      34449  34449         34449\n",
       "ORD          24822   24822    24822      24822      24822  24822         24822\n",
       "DFW          22153   22153    22153      22153      22153  22153         22153\n",
       "DEN          19843   19843    19843      19843      19843  19843         19843\n",
       "LAX          16657   16657    16657      16657      16657  16657         16657\n",
       "IAH          15821   15821    15821      15821      15821  15821         15821\n",
       "PHX          15557   15557    15557      15557      15557  15557         15557\n",
       "DTW          13136   13136    13136      13136      13136  13136         13136"
      ]
     },
     "execution_count": 30,
     "metadata": {},
     "output_type": "execute_result"
    }
   ],
   "source": [
    "df.groupby(['AirportFrom']).count().sort_values('Class', ascending = False).head(8)"
   ]
  },
  {
   "cell_type": "code",
   "execution_count": 31,
   "id": "6a5a6877",
   "metadata": {},
   "outputs": [],
   "source": [
    "df_copia_3 = df[df['AirportFrom'].isin(['ATL', 'ORD', 'DFW', 'DEN', 'LAX', 'IAH', 'PHX', 'DTW'])].copy()"
   ]
  },
  {
   "cell_type": "code",
   "execution_count": 32,
   "id": "b11a6478",
   "metadata": {
    "scrolled": true
   },
   "outputs": [
    {
     "data": {
      "text/html": [
       "<div>\n",
       "<style scoped>\n",
       "    .dataframe tbody tr th:only-of-type {\n",
       "        vertical-align: middle;\n",
       "    }\n",
       "\n",
       "    .dataframe tbody tr th {\n",
       "        vertical-align: top;\n",
       "    }\n",
       "\n",
       "    .dataframe thead th {\n",
       "        text-align: right;\n",
       "    }\n",
       "</style>\n",
       "<table border=\"1\" class=\"dataframe\">\n",
       "  <thead>\n",
       "    <tr style=\"text-align: right;\">\n",
       "      <th></th>\n",
       "      <th>Time</th>\n",
       "      <th>Length</th>\n",
       "      <th>Airline</th>\n",
       "      <th>AirportFrom</th>\n",
       "      <th>DayOfWeek</th>\n",
       "      <th>Class</th>\n",
       "      <th>Time (Hours)</th>\n",
       "    </tr>\n",
       "    <tr>\n",
       "      <th>Flight</th>\n",
       "      <th></th>\n",
       "      <th></th>\n",
       "      <th></th>\n",
       "      <th></th>\n",
       "      <th></th>\n",
       "      <th></th>\n",
       "      <th></th>\n",
       "    </tr>\n",
       "  </thead>\n",
       "  <tbody>\n",
       "    <tr>\n",
       "      <th>2313</th>\n",
       "      <td>1296.0</td>\n",
       "      <td>141.0</td>\n",
       "      <td>DL</td>\n",
       "      <td>ATL</td>\n",
       "      <td>1</td>\n",
       "      <td>0</td>\n",
       "      <td>21:36</td>\n",
       "    </tr>\n",
       "    <tr>\n",
       "      <th>1300</th>\n",
       "      <td>1210.0</td>\n",
       "      <td>80.0</td>\n",
       "      <td>AA</td>\n",
       "      <td>DFW</td>\n",
       "      <td>3</td>\n",
       "      <td>0</td>\n",
       "      <td>20:10</td>\n",
       "    </tr>\n",
       "    <tr>\n",
       "      <th>764</th>\n",
       "      <td>530.0</td>\n",
       "      <td>108.0</td>\n",
       "      <td>FL</td>\n",
       "      <td>ATL</td>\n",
       "      <td>3</td>\n",
       "      <td>0</td>\n",
       "      <td>08:50</td>\n",
       "    </tr>\n",
       "    <tr>\n",
       "      <th>1015</th>\n",
       "      <td>615.0</td>\n",
       "      <td>142.0</td>\n",
       "      <td>US</td>\n",
       "      <td>IAH</td>\n",
       "      <td>4</td>\n",
       "      <td>0</td>\n",
       "      <td>10:15</td>\n",
       "    </tr>\n",
       "    <tr>\n",
       "      <th>7032</th>\n",
       "      <td>771.0</td>\n",
       "      <td>70.0</td>\n",
       "      <td>OO</td>\n",
       "      <td>LAX</td>\n",
       "      <td>2</td>\n",
       "      <td>0</td>\n",
       "      <td>12:51</td>\n",
       "    </tr>\n",
       "    <tr>\n",
       "      <th>...</th>\n",
       "      <td>...</td>\n",
       "      <td>...</td>\n",
       "      <td>...</td>\n",
       "      <td>...</td>\n",
       "      <td>...</td>\n",
       "      <td>...</td>\n",
       "      <td>...</td>\n",
       "    </tr>\n",
       "    <tr>\n",
       "      <th>58</th>\n",
       "      <td>695.0</td>\n",
       "      <td>138.0</td>\n",
       "      <td>CO</td>\n",
       "      <td>DEN</td>\n",
       "      <td>7</td>\n",
       "      <td>1</td>\n",
       "      <td>11:35</td>\n",
       "    </tr>\n",
       "    <tr>\n",
       "      <th>7255</th>\n",
       "      <td>659.0</td>\n",
       "      <td>120.0</td>\n",
       "      <td>YV</td>\n",
       "      <td>ORD</td>\n",
       "      <td>2</td>\n",
       "      <td>1</td>\n",
       "      <td>10:59</td>\n",
       "    </tr>\n",
       "    <tr>\n",
       "      <th>1346</th>\n",
       "      <td>680.0</td>\n",
       "      <td>75.0</td>\n",
       "      <td>WN</td>\n",
       "      <td>LAX</td>\n",
       "      <td>6</td>\n",
       "      <td>1</td>\n",
       "      <td>11:20</td>\n",
       "    </tr>\n",
       "    <tr>\n",
       "      <th>149</th>\n",
       "      <td>1149.0</td>\n",
       "      <td>123.0</td>\n",
       "      <td>FL</td>\n",
       "      <td>DTW</td>\n",
       "      <td>4</td>\n",
       "      <td>1</td>\n",
       "      <td>19:09</td>\n",
       "    </tr>\n",
       "    <tr>\n",
       "      <th>2280</th>\n",
       "      <td>1170.0</td>\n",
       "      <td>86.0</td>\n",
       "      <td>XE</td>\n",
       "      <td>IAH</td>\n",
       "      <td>1</td>\n",
       "      <td>1</td>\n",
       "      <td>19:30</td>\n",
       "    </tr>\n",
       "  </tbody>\n",
       "</table>\n",
       "<p>162438 rows × 7 columns</p>\n",
       "</div>"
      ],
      "text/plain": [
       "          Time  Length Airline AirportFrom DayOfWeek  Class Time (Hours)\n",
       "Flight                                                                  \n",
       "2313    1296.0   141.0      DL         ATL         1      0        21:36\n",
       "1300    1210.0    80.0      AA         DFW         3      0        20:10\n",
       "764      530.0   108.0      FL         ATL         3      0        08:50\n",
       "1015     615.0   142.0      US         IAH         4      0        10:15\n",
       "7032     771.0    70.0      OO         LAX         2      0        12:51\n",
       "...        ...     ...     ...         ...       ...    ...          ...\n",
       "58       695.0   138.0      CO         DEN         7      1        11:35\n",
       "7255     659.0   120.0      YV         ORD         2      1        10:59\n",
       "1346     680.0    75.0      WN         LAX         6      1        11:20\n",
       "149     1149.0   123.0      FL         DTW         4      1        19:09\n",
       "2280    1170.0    86.0      XE         IAH         1      1        19:30\n",
       "\n",
       "[162438 rows x 7 columns]"
      ]
     },
     "execution_count": 32,
     "metadata": {},
     "output_type": "execute_result"
    }
   ],
   "source": [
    "df_copia_3.drop(columns = 'AirportTo')"
   ]
  },
  {
   "cell_type": "code",
   "execution_count": 33,
   "id": "0d86acb2",
   "metadata": {},
   "outputs": [],
   "source": [
    "df_copia_3['AirportFrom'] = df_copia_3['AirportFrom'].astype('object')"
   ]
  },
  {
   "cell_type": "code",
   "execution_count": 34,
   "id": "10344588",
   "metadata": {},
   "outputs": [
    {
     "data": {
      "image/png": "[encoded data removed]",
      "text/plain": [
       "<Figure size 1080x576 with 1 Axes>"
      ]
     },
     "metadata": {},
     "output_type": "display_data"
    }
   ],
   "source": [
    "sns.set_theme(style=\"whitegrid\")\n",
    "fig, ax = plt.subplots(figsize =(15, 8))\n",
    "colores = sns.color_palette(\"pastel\")\n",
    "ax = sns.countplot(data = df_copia_3, x = 'AirportFrom', palette = colores, hue = 'Class')\n",
    "ax.set_title('Cant. de vuelos (a tiempo y retrasados) según el Día de la Semana',fontdict = {'fontsize': 14})\n",
    "plt.ylabel('Cant. Vuelos', fontdict = {'fontsize': 12, 'color': 'grey'}, labelpad = 15)\n",
    "plt.xlabel('Aeropuerto de Salida', fontdict = {'fontsize': 12, 'color': 'grey'}, labelpad = 10)\n",
    "plt.show()"
   ]
  },
  {
   "cell_type": "markdown",
   "id": "d2fca599",
   "metadata": {},
   "source": [
    "<p> Podemos observar que el aeropuerto que mayor cantidad de vuelos demorados es el ATL, al cual le siguen el ORD y el DEN (estos últimos dos se caracterizan porque tiene casi igual cantidad de vuelos demorados que de vuelos a tiempo.) </p>"
   ]
  },
  {
   "cell_type": "markdown",
   "id": "15612ae2",
   "metadata": {},
   "source": [
    "##### ¿Qué relación hay entre la duración del vuelo y la posibilidad de que este se demore?"
   ]
  },
  {
   "cell_type": "code",
   "execution_count": 35,
   "id": "106bc548",
   "metadata": {},
   "outputs": [
    {
     "data": {
      "text/plain": [
       "count    539382.000000\n",
       "mean        132.202104\n",
       "std          70.117045\n",
       "min           0.000000\n",
       "25%          81.000000\n",
       "50%         115.000000\n",
       "75%         162.000000\n",
       "max         655.000000\n",
       "Name: Length, dtype: float64"
      ]
     },
     "execution_count": 35,
     "metadata": {},
     "output_type": "execute_result"
    }
   ],
   "source": [
    "df.Length.describe()"
   ]
  },
  {
   "cell_type": "markdown",
   "id": "19ff8501",
   "metadata": {},
   "source": [
    "<p> Para nuestro análisis podríamos hacer tres categorías de duración de vuelo: \n",
    "    <li> Si es menor a 100 el vuelo se clasifica como 'Corto'. </li>\n",
    "    <li> Si es mayor a 100 pero menor a 300 se clasifica como 'Medio'.</li>\n",
    "    <li> Si es mayor a 300 se clasifica como 'Largo'. </li>\n",
    "        "
   ]
  },
  {
   "cell_type": "code",
   "execution_count": 36,
   "id": "ae8b49d5",
   "metadata": {},
   "outputs": [],
   "source": [
    "df_copy_4 = df.copy()\n",
    "\n",
    "df_copy_4.loc[df_copy_4.Length <=100, 'Length'] = 0\n",
    "df_copy_4.loc[(df_copy_4.Length > 100) & (df_copy_4.Length <= 300), 'Length'] = 1\n",
    "df_copy_4.loc[df_copy_4.Length > 300, 'Length'] = 2"
   ]
  },
  {
   "cell_type": "code",
   "execution_count": 37,
   "id": "5daed9f7",
   "metadata": {},
   "outputs": [],
   "source": [
    "df_copy_4.Length = df_copy_4.Length.replace({0:'Corto', 1:'Medio', 2:'Largo'})"
   ]
  },
  {
   "cell_type": "code",
   "execution_count": 38,
   "id": "5f6ab1be",
   "metadata": {},
   "outputs": [
    {
     "data": {
      "image/png": "[encoded data removed]",
      "text/plain": [
       "<Figure size 1080x576 with 1 Axes>"
      ]
     },
     "metadata": {},
     "output_type": "display_data"
    }
   ],
   "source": [
    "sns.set_theme(style=\"whitegrid\")\n",
    "fig, ax = plt.subplots(figsize =(15, 8))\n",
    "colores = sns.color_palette(\"pastel\")\n",
    "ax = sns.countplot(data = df_copy_4, x = 'Length', palette = colores, hue = 'Class')\n",
    "ax.set_title('Cant. de vuelos (a tiempo y retrasados) según su Duración',fontdict = {'fontsize': 14})\n",
    "plt.ylabel('Cant. Vuelos', fontdict = {'fontsize': 12, 'color': 'grey'}, labelpad = 15)\n",
    "plt.xlabel('Duración', fontdict = {'fontsize': 12, 'color': 'grey'}, labelpad = 10)\n",
    "plt.show()"
   ]
  },
  {
   "cell_type": "markdown",
   "id": "e4c96c69",
   "metadata": {},
   "source": [
    "<p> Podemos observar que hay más probabilidad que los vuelos se retrasen si su duración es media, o bien, si son cortos. </p>"
   ]
  },
  {
   "cell_type": "markdown",
   "id": "b597f385",
   "metadata": {},
   "source": [
    "### Modelo de predicción: "
   ]
  },
  {
   "cell_type": "code",
   "execution_count": 39,
   "id": "9f667f42",
   "metadata": {},
   "outputs": [
    {
     "data": {
      "text/plain": [
       "0    0.554557\n",
       "1    0.445443\n",
       "Name: Class, dtype: float64"
      ]
     },
     "execution_count": 39,
     "metadata": {},
     "output_type": "execute_result"
    }
   ],
   "source": [
    "# Vamos a ver cómo se distribuyen los datos: \n",
    "df['Class'].value_counts(normalize=True)"
   ]
  },
  {
   "cell_type": "markdown",
   "id": "7337e45b",
   "metadata": {},
   "source": [
    "<p> Podemos observar que se trata de un caso en donde las clases se encuentran medianamente balanceadas. </p>"
   ]
  },
  {
   "cell_type": "code",
   "execution_count": 40,
   "id": "f02ec8d9",
   "metadata": {},
   "outputs": [
    {
     "name": "stdout",
     "output_type": "stream",
     "text": [
      "<class 'pandas.core.frame.DataFrame'>\n",
      "Int64Index: 539382 entries, 2313 to 6377\n",
      "Data columns (total 8 columns):\n",
      " #   Column        Non-Null Count   Dtype   \n",
      "---  ------        --------------   -----   \n",
      " 0   Time          539382 non-null  float64 \n",
      " 1   Length        539382 non-null  float64 \n",
      " 2   Airline       539382 non-null  category\n",
      " 3   AirportFrom   539382 non-null  category\n",
      " 4   AirportTo     539382 non-null  category\n",
      " 5   DayOfWeek     539382 non-null  category\n",
      " 6   Class         539382 non-null  int64   \n",
      " 7   Time (Hours)  539382 non-null  object  \n",
      "dtypes: category(4), float64(2), int64(1), object(1)\n",
      "memory usage: 43.7+ MB\n"
     ]
    }
   ],
   "source": [
    "# Vemos nuestro dataframe: \n",
    "df.info()"
   ]
  },
  {
   "cell_type": "markdown",
   "id": "39b434cc",
   "metadata": {},
   "source": [
    "<p> Para el modelo, solo vamos a dejar las columnas de Time, Length, Airline y DayOfWeek. En el caso de Airline y DayOfWeek, al ser datos categóricos, los vamos a transformar a dummies. </p>"
   ]
  },
  {
   "cell_type": "code",
   "execution_count": 41,
   "id": "a79dc800",
   "metadata": {
    "scrolled": true
   },
   "outputs": [],
   "source": [
    "df_modelo = df.drop(columns=['Time (Hours)', 'AirportFrom', 'AirportTo']) # Eliminamos las columnas que no utilizamos"
   ]
  },
  {
   "cell_type": "code",
   "execution_count": 42,
   "id": "c6749490",
   "metadata": {},
   "outputs": [],
   "source": [
    "df_modelo = pd.get_dummies(df_modelo, columns = ['Airline', 'DayOfWeek']) # Transformamos a dummies"
   ]
  },
  {
   "cell_type": "code",
   "execution_count": 43,
   "id": "75cac18c",
   "metadata": {
    "scrolled": true
   },
   "outputs": [
    {
     "name": "stdout",
     "output_type": "stream",
     "text": [
      "<class 'pandas.core.frame.DataFrame'>\n",
      "Int64Index: 539382 entries, 2313 to 6377\n",
      "Data columns (total 28 columns):\n",
      " #   Column       Non-Null Count   Dtype  \n",
      "---  ------       --------------   -----  \n",
      " 0   Time         539382 non-null  float64\n",
      " 1   Length       539382 non-null  float64\n",
      " 2   Class        539382 non-null  int64  \n",
      " 3   Airline_9E   539382 non-null  uint8  \n",
      " 4   Airline_AA   539382 non-null  uint8  \n",
      " 5   Airline_AS   539382 non-null  uint8  \n",
      " 6   Airline_B6   539382 non-null  uint8  \n",
      " 7   Airline_CO   539382 non-null  uint8  \n",
      " 8   Airline_DL   539382 non-null  uint8  \n",
      " 9   Airline_EV   539382 non-null  uint8  \n",
      " 10  Airline_F9   539382 non-null  uint8  \n",
      " 11  Airline_FL   539382 non-null  uint8  \n",
      " 12  Airline_HA   539382 non-null  uint8  \n",
      " 13  Airline_MQ   539382 non-null  uint8  \n",
      " 14  Airline_OH   539382 non-null  uint8  \n",
      " 15  Airline_OO   539382 non-null  uint8  \n",
      " 16  Airline_UA   539382 non-null  uint8  \n",
      " 17  Airline_US   539382 non-null  uint8  \n",
      " 18  Airline_WN   539382 non-null  uint8  \n",
      " 19  Airline_XE   539382 non-null  uint8  \n",
      " 20  Airline_YV   539382 non-null  uint8  \n",
      " 21  DayOfWeek_1  539382 non-null  uint8  \n",
      " 22  DayOfWeek_2  539382 non-null  uint8  \n",
      " 23  DayOfWeek_3  539382 non-null  uint8  \n",
      " 24  DayOfWeek_4  539382 non-null  uint8  \n",
      " 25  DayOfWeek_5  539382 non-null  uint8  \n",
      " 26  DayOfWeek_6  539382 non-null  uint8  \n",
      " 27  DayOfWeek_7  539382 non-null  uint8  \n",
      "dtypes: float64(2), int64(1), uint8(25)\n",
      "memory usage: 49.3 MB\n"
     ]
    }
   ],
   "source": [
    "df_modelo.info()"
   ]
  },
  {
   "cell_type": "code",
   "execution_count": 44,
   "id": "049d078c",
   "metadata": {},
   "outputs": [],
   "source": [
    "Y = df_modelo['Class'] # Definimos nuestro target"
   ]
  },
  {
   "cell_type": "code",
   "execution_count": 45,
   "id": "5e4f5a98",
   "metadata": {
    "scrolled": false
   },
   "outputs": [],
   "source": [
    "X = df_modelo.drop(columns = 'Class') # Eliminamos nuestro target de X"
   ]
  },
  {
   "cell_type": "code",
   "execution_count": 46,
   "id": "e813ddf0",
   "metadata": {
    "scrolled": true
   },
   "outputs": [
    {
     "name": "stdout",
     "output_type": "stream",
     "text": [
      "<class 'pandas.core.frame.DataFrame'>\n",
      "Int64Index: 539382 entries, 2313 to 6377\n",
      "Data columns (total 27 columns):\n",
      " #   Column       Non-Null Count   Dtype  \n",
      "---  ------       --------------   -----  \n",
      " 0   Time         539382 non-null  float64\n",
      " 1   Length       539382 non-null  float64\n",
      " 2   Airline_9E   539382 non-null  uint8  \n",
      " 3   Airline_AA   539382 non-null  uint8  \n",
      " 4   Airline_AS   539382 non-null  uint8  \n",
      " 5   Airline_B6   539382 non-null  uint8  \n",
      " 6   Airline_CO   539382 non-null  uint8  \n",
      " 7   Airline_DL   539382 non-null  uint8  \n",
      " 8   Airline_EV   539382 non-null  uint8  \n",
      " 9   Airline_F9   539382 non-null  uint8  \n",
      " 10  Airline_FL   539382 non-null  uint8  \n",
      " 11  Airline_HA   539382 non-null  uint8  \n",
      " 12  Airline_MQ   539382 non-null  uint8  \n",
      " 13  Airline_OH   539382 non-null  uint8  \n",
      " 14  Airline_OO   539382 non-null  uint8  \n",
      " 15  Airline_UA   539382 non-null  uint8  \n",
      " 16  Airline_US   539382 non-null  uint8  \n",
      " 17  Airline_WN   539382 non-null  uint8  \n",
      " 18  Airline_XE   539382 non-null  uint8  \n",
      " 19  Airline_YV   539382 non-null  uint8  \n",
      " 20  DayOfWeek_1  539382 non-null  uint8  \n",
      " 21  DayOfWeek_2  539382 non-null  uint8  \n",
      " 22  DayOfWeek_3  539382 non-null  uint8  \n",
      " 23  DayOfWeek_4  539382 non-null  uint8  \n",
      " 24  DayOfWeek_5  539382 non-null  uint8  \n",
      " 25  DayOfWeek_6  539382 non-null  uint8  \n",
      " 26  DayOfWeek_7  539382 non-null  uint8  \n",
      "dtypes: float64(2), uint8(25)\n",
      "memory usage: 45.2 MB\n"
     ]
    }
   ],
   "source": [
    "X.info() # Eliminamos la columna target "
   ]
  },
  {
   "cell_type": "code",
   "execution_count": 47,
   "id": "769582f8",
   "metadata": {},
   "outputs": [],
   "source": [
    "# Importamos las librerías que vamos a utilizar:\n",
    "from sklearn.preprocessing import RobustScaler\n",
    "from sklearn.model_selection import train_test_split\n",
    "\n",
    "\n",
    "from sklearn.linear_model import LogisticRegression\n",
    "from sklearn.ensemble import RandomForestClassifier\n",
    "from sklearn.neighbors import KNeighborsClassifier\n",
    "from sklearn.naive_bayes import GaussianNB"
   ]
  },
  {
   "cell_type": "code",
   "execution_count": 48,
   "id": "ba0bdc21",
   "metadata": {},
   "outputs": [],
   "source": [
    "# Separamos entre Train y Test: \n",
    "X_train, X_test, y_train, y_test = train_test_split(X, Y, test_size=0.3, random_state=42)"
   ]
  },
  {
   "cell_type": "code",
   "execution_count": 49,
   "id": "feeb1e88",
   "metadata": {},
   "outputs": [],
   "source": [
    "# Estandarizamos los datos: \n",
    "from sklearn.preprocessing import StandardScaler \n",
    "sc = StandardScaler()\n",
    "X_train = sc.fit_transform(X_train)\n",
    "X_test = sc.transform(X_test)"
   ]
  },
  {
   "cell_type": "markdown",
   "id": "d56c9f18",
   "metadata": {},
   "source": [
    "##### Random Forest: "
   ]
  },
  {
   "cell_type": "code",
   "execution_count": 58,
   "id": "85c2b922",
   "metadata": {},
   "outputs": [],
   "source": [
    "# Importamos las métricas\n",
    "from sklearn.metrics import roc_auc_score, roc_curve, recall_score, precision_score, precision_recall_curve, f1_score, accuracy_score, auc, balanced_accuracy_score, confusion_matrix, plot_confusion_matrix\n",
    "from sklearn.metrics import ConfusionMatrixDisplay"
   ]
  },
  {
   "cell_type": "code",
   "execution_count": 63,
   "id": "9aee4874",
   "metadata": {},
   "outputs": [
    {
     "name": "stdout",
     "output_type": "stream",
     "text": [
      "[[59188 30286]\n",
      " [33084 39257]]\n"
     ]
    },
    {
     "data": {
      "image/png": "[encoded data removed]",
      "text/plain": [
       "<Figure size 432x288 with 2 Axes>"
      ]
     },
     "metadata": {},
     "output_type": "display_data"
    },
    {
     "name": "stdout",
     "output_type": "stream",
     "text": [
      "Accuracy is: 0.6083799400550011\n",
      "Balanced Accuracy is 0.6020882955722258\n",
      "F1 Score is: 0.5533675396803023\n",
      "AUC is: 0.6392536035868551\n"
     ]
    }
   ],
   "source": [
    "# Creamos una instancia para el modelo:\n",
    "rf = RandomForestClassifier(n_estimators = 100)\n",
    "# Entrenamos el modelo con los datos de entrenamiento:\n",
    "rf.fit(X_train, y_train)\n",
    "# Hacemos la predicción: \n",
    "y_test_pred = rf.predict(X_test)\n",
    "\n",
    "# Graficamos la matriz de confusión:\n",
    "cm = confusion_matrix(y_test, y_test_pred, normalize = 'true')\n",
    "print(confusion_matrix(y_test, y_test_pred))\n",
    "disp = ConfusionMatrixDisplay(confusion_matrix = cm)\n",
    "disp.plot()\n",
    "plt.show()\n",
    "\n",
    "# Calculamos el Accuracy (para ver cuán diferente es el valor que nos devuelve, respecto de las demás métricas)\n",
    "print(f\"Accuracy is: {accuracy_score(y_test, y_test_pred)}\")\n",
    "\n",
    "# Calculamos el Balanced Accuracy: \n",
    "from sklearn.metrics import balanced_accuracy_score\n",
    "print('Balanced Accuracy is', balanced_accuracy_score(y_test, y_test_pred))\n",
    "\n",
    "# Calculamos el F1 Score:\n",
    "from sklearn.metrics import f1_score\n",
    "print(f\"F1 Score is: {f1_score(y_test, y_test_pred)}\")\n",
    "\n",
    "# Calculamos y graficamos la curva AUC - ROC:\n",
    "from sklearn.metrics import roc_curve, auc\n",
    "class_probabilities = rf.predict_proba(X_test)\n",
    "preds = class_probabilities[:, 1]\n",
    "fpr, tpr, threshold = roc_curve(y_test, preds)\n",
    "roc_auc = auc(fpr, tpr)\n",
    "\n",
    "# AUC\n",
    "print(f\"AUC is: {roc_auc}\")"
   ]
  },
  {
   "cell_type": "markdown",
   "id": "34aaf5c3",
   "metadata": {},
   "source": [
    "<p> Como podemos observar, el accuracy es bastante bajo. Vamos a intentar mejorarlo reduciendo el número de estimadores. </p>"
   ]
  },
  {
   "cell_type": "code",
   "execution_count": 68,
   "id": "39befd4e",
   "metadata": {},
   "outputs": [
    {
     "name": "stdout",
     "output_type": "stream",
     "text": [
      "[[59135 30339]\n",
      " [33619 38722]]\n"
     ]
    },
    {
     "data": {
      "image/png": "[encoded data removed]",
      "text/plain": [
       "<Figure size 432x288 with 2 Axes>"
      ]
     },
     "metadata": {},
     "output_type": "display_data"
    },
    {
     "name": "stdout",
     "output_type": "stream",
     "text": [
      "Accuracy is: 0.6047461607391157\n",
      "Balanced Accuracy is 0.598094355393918\n",
      "F1 Score is: 0.5476867371041428\n",
      "AUC is: 0.6322896737973523\n"
     ]
    }
   ],
   "source": [
    "# Creamos una instancia para el modelo:\n",
    "rf = RandomForestClassifier(n_estimators = 10)\n",
    "# Entrenamos el modelo con los datos de entrenamiento:\n",
    "rf.fit(X_train, y_train)\n",
    "# Hacemos la predicción: \n",
    "y_test_pred = rf.predict(X_test)\n",
    "\n",
    "# Graficamos la matriz de confusión:\n",
    "cm = confusion_matrix(y_test, y_test_pred, normalize = 'true')\n",
    "print(confusion_matrix(y_test, y_test_pred))\n",
    "disp = ConfusionMatrixDisplay(confusion_matrix = cm)\n",
    "disp.plot()\n",
    "plt.show()\n",
    "\n",
    "# Calculamos el Accuracy (para ver cuán diferente es el valor que nos devuelve, respecto de las demás métricas)\n",
    "print(f\"Accuracy is: {accuracy_score(y_test, y_test_pred)}\")\n",
    "\n",
    "# Calculamos el Balanced Accuracy: \n",
    "from sklearn.metrics import balanced_accuracy_score\n",
    "print('Balanced Accuracy is', balanced_accuracy_score(y_test, y_test_pred))\n",
    "\n",
    "# Calculamos el F1 Score:\n",
    "from sklearn.metrics import f1_score\n",
    "print(f\"F1 Score is: {f1_score(y_test, y_test_pred)}\")\n",
    "\n",
    "# Calculamos y graficamos la curva AUC - ROC:\n",
    "from sklearn.metrics import roc_curve, auc\n",
    "class_probabilities = rf.predict_proba(X_test)\n",
    "preds = class_probabilities[:, 1]\n",
    "fpr, tpr, threshold = roc_curve(y_test, preds)\n",
    "roc_auc = auc(fpr, tpr)\n",
    "\n",
    "# AUC\n",
    "print(f\"AUC is: {roc_auc}\")"
   ]
  },
  {
   "cell_type": "markdown",
   "id": "4f30f9a7",
   "metadata": {},
   "source": [
    "<p> Podemos observar que, aun disminuyendo el numero de estimadores, no mejora la predicción. </p>"
   ]
  },
  {
   "cell_type": "markdown",
   "id": "fca63149",
   "metadata": {},
   "source": [
    "##### Regresión Logística: "
   ]
  },
  {
   "cell_type": "code",
   "execution_count": 69,
   "id": "176a7b9c",
   "metadata": {},
   "outputs": [
    {
     "name": "stdout",
     "output_type": "stream",
     "text": [
      "[[69964 19510]\n",
      " [40199 32142]]\n"
     ]
    },
    {
     "data": {
      "image/png": "[encoded data removed]",
      "text/plain": [
       "<Figure size 432x288 with 2 Axes>"
      ]
     },
     "metadata": {},
     "output_type": "display_data"
    },
    {
     "name": "stdout",
     "output_type": "stream",
     "text": [
      "Accuracy is: 0.6310045422241448\n",
      "Balanced Accuracy is 0.6131300912047796\n",
      "F1 Score  is: 0.5184486220996346\n",
      "AUC is: 0.6735183446053016\n"
     ]
    }
   ],
   "source": [
    "# Creamos una instancia para el modelo:\n",
    "lr = LogisticRegression(random_state = 0)\n",
    "# Entrenamos el modelo con los datos de entrenamiento:\n",
    "lr.fit(X_train, y_train)\n",
    "# Hacemos la predicción: \n",
    "y_test_pred = lr.predict(X_test)\n",
    "\n",
    "# Graficamos la matriz de confusión: \n",
    "cm = confusion_matrix(y_test, y_test_pred, normalize = 'true')\n",
    "print(confusion_matrix(y_test, y_test_pred))\n",
    "disp = ConfusionMatrixDisplay(confusion_matrix = cm)\n",
    "disp.plot()\n",
    "plt.show()\n",
    "\n",
    "# Calculamos el Accuracy (para ver cuán diferente es el valor que nos devuelve, respecto de las demás métricas)\n",
    "print(f\"Accuracy is: {accuracy_score(y_test, y_test_pred)}\")\n",
    "\n",
    "# Calculamos el Balanced Accuracy: \n",
    "from sklearn.metrics import balanced_accuracy_score\n",
    "print('Balanced Accuracy is', balanced_accuracy_score(y_test, y_test_pred))\n",
    "\n",
    "# Calculamos el F1 Score:\n",
    "from sklearn.metrics import f1_score\n",
    "print(f\"F1 Score  is: {f1_score(y_test, y_test_pred)}\")\n",
    "\n",
    "# Calculamos y graficamos la curva AUC - ROC:\n",
    "from sklearn.metrics import roc_curve, auc\n",
    "class_probabilities = lr.predict_proba(X_test)\n",
    "preds = class_probabilities[:, 1]\n",
    "fpr, tpr, threshold = roc_curve(y_test, preds)\n",
    "roc_auc = auc(fpr, tpr)\n",
    "\n",
    "# AUC\n",
    "print(f\"AUC is: {roc_auc}\")"
   ]
  },
  {
   "cell_type": "markdown",
   "id": "3f935358",
   "metadata": {},
   "source": [
    "##### Gaussian NB"
   ]
  },
  {
   "cell_type": "code",
   "execution_count": 65,
   "id": "c309b629",
   "metadata": {},
   "outputs": [
    {
     "name": "stdout",
     "output_type": "stream",
     "text": [
      "[[48555 40919]\n",
      " [24341 48000]]\n"
     ]
    },
    {
     "data": {
      "image/png": "[encoded data removed]",
      "text/plain": [
       "<Figure size 432x288 with 2 Axes>"
      ]
     },
     "metadata": {},
     "output_type": "display_data"
    },
    {
     "name": "stdout",
     "output_type": "stream",
     "text": [
      "Accuracy is: 0.5966999351110837\n",
      "Balanced Accuracy is 0.6030978783512912\n",
      "F1 Score is: 0.5953119186407044\n",
      "AUC is: 0.6509535086460073\n"
     ]
    }
   ],
   "source": [
    "# Creamos una instancia para el modelo:\n",
    "gnb = GaussianNB()\n",
    "# Entrenamos el modelo con los datos de entrenamiento:\n",
    "gnb.fit(X_train, y_train)\n",
    "# Hacemos la predicción: \n",
    "y_test_pred = gnb.predict(X_test)\n",
    "\n",
    "# Graficamos la matriz de confusión: \n",
    "cm = confusion_matrix(y_test, y_test_pred, normalize = 'true')\n",
    "print(confusion_matrix(y_test, y_test_pred))\n",
    "disp = ConfusionMatrixDisplay(confusion_matrix = cm)\n",
    "disp.plot()\n",
    "plt.show()\n",
    "\n",
    "# Calculamos el Accuracy (para ver cuán diferente es el valor que nos devuelve, respecto de las demás métricas)\n",
    "print(f\"Accuracy is: {accuracy_score(y_test, y_test_pred)}\")\n",
    "\n",
    "# Calculamos el Balanced Accuracy: \n",
    "from sklearn.metrics import balanced_accuracy_score\n",
    "print('Balanced Accuracy is', balanced_accuracy_score(y_test, y_test_pred))\n",
    "\n",
    "# Calculamos el F1 Score:\n",
    "from sklearn.metrics import f1_score\n",
    "print(f\"F1 Score is: {f1_score(y_test, y_test_pred)}\")\n",
    "\n",
    "# Calculamos y graficamos la curva AUC - ROC:\n",
    "from sklearn.metrics import roc_curve, auc\n",
    "class_probabilities = gnb.predict_proba(X_test)\n",
    "preds = class_probabilities[:, 1]\n",
    "fpr, tpr, threshold = roc_curve(y_test, preds)\n",
    "roc_auc = auc(fpr, tpr)\n",
    "\n",
    "# AUC\n",
    "print(f\"AUC is: {roc_auc}\")"
   ]
  },
  {
   "cell_type": "markdown",
   "id": "25d784a6",
   "metadata": {},
   "source": [
    "##### Resumen: "
   ]
  },
  {
   "cell_type": "markdown",
   "id": "1d497650",
   "metadata": {},
   "source": [
    "<p> Se puede observar que, a pesar de probar diferentes modelos, el accuracy de las predicciones oscila entre 0,59 - 0,61. Por lo tanto, lo que podríamos hacer es: \n",
    "    <li> Eliminar diferentes variables para ver el comportamiento de los modelos y las predicciones obtenidas. </li>\n",
    "    <li> Probar con otros modelos distintos a los utilizados. </li>\n",
    "    <li> Realizar el hyperturning de parámetros. </li>\n",
    "    <li> Probar con modelos de Ensamble y Boosting. </li> "
   ]
  },
  {
   "cell_type": "code",
   "execution_count": null,
   "id": "5a055b49",
   "metadata": {},
   "outputs": [],
   "source": []
  }
 ],
 "metadata": {
  "kernelspec": {
   "display_name": "Python 3",
   "language": "python",
   "name": "python3"
  },
  "language_info": {
   "codemirror_mode": {
    "name": "ipython",
    "version": 3
   },
   "file_extension": ".py",
   "mimetype": "text/x-python",
   "name": "python",
   "nbconvert_exporter": "python",
   "pygments_lexer": "ipython3",
   "version": "3.8.5"
  }
 },
 "nbformat": 4,
 "nbformat_minor": 5
}
